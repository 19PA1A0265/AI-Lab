{
  "nbformat": 4,
  "nbformat_minor": 0,
  "metadata": {
    "colab": {
      "name": "Experiment1 : Numpy.ipynb",
      "provenance": [],
      "collapsed_sections": [],
      "authorship_tag": "ABX9TyO9leoYZAMjrq8QNM2sz1Lm",
      "include_colab_link": true
    },
    "kernelspec": {
      "name": "python3",
      "display_name": "Python 3"
    }
  },
  "cells": [
    {
      "cell_type": "markdown",
      "metadata": {
        "id": "view-in-github",
        "colab_type": "text"
      },
      "source": [
        "<a href=\"https://colab.research.google.com/github/19PA1A0265/AI-Lab/blob/master/Experiment1_Numpy.ipynb\" target=\"_parent\"><img src=\"https://colab.research.google.com/assets/colab-badge.svg\" alt=\"Open In Colab\"/></a>"
      ]
    },
    {
      "cell_type": "markdown",
      "metadata": {
        "id": "4SDwm6tVIQgo",
        "colab_type": "text"
      },
      "source": [
        "# 1) Experiment 1 : Numpy"
      ]
    },
    {
      "cell_type": "markdown",
      "metadata": {
        "id": "UCR2AExxJMz8",
        "colab_type": "text"
      },
      "source": [
        "## i) Different ways to create numpy arrays "
      ]
    },
    {
      "cell_type": "markdown",
      "metadata": {
        "id": "7KQQmBi4JhX6",
        "colab_type": "text"
      },
      "source": [
        "### a) Create a numpy array using list"
      ]
    },
    {
      "cell_type": "code",
      "metadata": {
        "id": "6TMh2ev9L-PQ",
        "colab_type": "code",
        "colab": {
          "base_uri": "https://localhost:8080/",
          "height": 34
        },
        "outputId": "2588a523-e68d-4f13-bbed-044480164dc4"
      },
      "source": [
        "import numpy as np\n",
        "a = np.array([2,6,9])\n",
        "print (a)"
      ],
      "execution_count": null,
      "outputs": [
        {
          "output_type": "stream",
          "text": [
            "[2 6 9]\n"
          ],
          "name": "stdout"
        }
      ]
    },
    {
      "cell_type": "code",
      "metadata": {
        "id": "w43K9wHpNCHG",
        "colab_type": "code",
        "colab": {
          "base_uri": "https://localhost:8080/",
          "height": 51
        },
        "outputId": "33c33c7b-7f98-4e0d-ead5-2d7eeedf763f"
      },
      "source": [
        "a = np.array([[1,2],[3,4]])\n",
        "print (a)"
      ],
      "execution_count": null,
      "outputs": [
        {
          "output_type": "stream",
          "text": [
            "[[1 2]\n",
            " [3 4]]\n"
          ],
          "name": "stdout"
        }
      ]
    },
    {
      "cell_type": "markdown",
      "metadata": {
        "id": "xPAxhzPj-IFt",
        "colab_type": "text"
      },
      "source": [
        "### b) Create a numpy array using arange"
      ]
    },
    {
      "cell_type": "code",
      "metadata": {
        "id": "BYX0MzTw-I7k",
        "colab_type": "code",
        "colab": {
          "base_uri": "https://localhost:8080/",
          "height": 34
        },
        "outputId": "7e817a63-5d5e-469e-e08c-193c32877ba7"
      },
      "source": [
        "a = np.arange(4)\n",
        "print(a)"
      ],
      "execution_count": null,
      "outputs": [
        {
          "output_type": "stream",
          "text": [
            "[0 1 2 3]\n"
          ],
          "name": "stdout"
        }
      ]
    },
    {
      "cell_type": "markdown",
      "metadata": {
        "id": "pVyRlMxYPKF0",
        "colab_type": "text"
      },
      "source": [
        "## ii) Add,remove,modify elements in an array"
      ]
    },
    {
      "cell_type": "markdown",
      "metadata": {
        "id": "8yJGGs6771an",
        "colab_type": "text"
      },
      "source": [
        "### a) Add"
      ]
    },
    {
      "cell_type": "code",
      "metadata": {
        "id": "Jxzaut5oPxHq",
        "colab_type": "code",
        "colab": {
          "base_uri": "https://localhost:8080/",
          "height": 34
        },
        "outputId": "f02e1caa-33f3-4370-c8c8-cbe977bb8724"
      },
      "source": [
        "newArray = np.append(a,[44,36,48]) \n",
        "print(newArray)"
      ],
      "execution_count": null,
      "outputs": [
        {
          "output_type": "stream",
          "text": [
            "[ 1  2  3  4 44 36 48]\n"
          ],
          "name": "stdout"
        }
      ]
    },
    {
      "cell_type": "markdown",
      "metadata": {
        "id": "oozdCiRu8LP6",
        "colab_type": "text"
      },
      "source": [
        "### b) Remove"
      ]
    },
    {
      "cell_type": "code",
      "metadata": {
        "id": "UwCVkav1TgeU",
        "colab_type": "code",
        "colab": {
          "base_uri": "https://localhost:8080/",
          "height": 34
        },
        "outputId": "3bbc46da-3b52-43bd-bb46-4dff8828e6d8"
      },
      "source": [
        " \n",
        "import numpy as np\n",
        "l=np.array([4,6,9,3,7])\n",
        "l=np.delete(l,4)\n",
        "print(l)"
      ],
      "execution_count": null,
      "outputs": [
        {
          "output_type": "stream",
          "text": [
            "[4 6 9 3]\n"
          ],
          "name": "stdout"
        }
      ]
    },
    {
      "cell_type": "markdown",
      "metadata": {
        "id": "Yh0G8C-487Hk",
        "colab_type": "text"
      },
      "source": [
        "### c) Modify"
      ]
    },
    {
      "cell_type": "code",
      "metadata": {
        "id": "1A_qsymUVC76",
        "colab_type": "code",
        "colab": {
          "base_uri": "https://localhost:8080/",
          "height": 34
        },
        "outputId": "112ae12e-2477-418c-db8f-d21155eee69d"
      },
      "source": [
        " \n",
        "b=np.array([9,6,4,1,8,5])\n",
        "b[b<2]=-1\n",
        "print(b)"
      ],
      "execution_count": null,
      "outputs": [
        {
          "output_type": "stream",
          "text": [
            "[ 9  6  4 -1  8  5]\n"
          ],
          "name": "stdout"
        }
      ]
    },
    {
      "cell_type": "markdown",
      "metadata": {
        "id": "VnfCuaMuVZSI",
        "colab_type": "text"
      },
      "source": [
        " ## iii) Arthimetic operations on Numpy array"
      ]
    },
    {
      "cell_type": "code",
      "metadata": {
        "id": "V_dWzsz-WCXq",
        "colab_type": "code",
        "colab": {
          "base_uri": "https://localhost:8080/",
          "height": 1000
        },
        "outputId": "80286f18-6ef0-4463-a62b-9bb5ad3b874d"
      },
      "source": [
        " \n",
        "import numpy as np\n",
        "v=np.random.random((8,8))\n",
        "n=np.random.random((8,8))\n",
        "sum=np.add(v,n)\n",
        "diff=np.subtract(v,n)\n",
        "prod=np.multiply(v,n)\n",
        "quo=np.divide(v,n)\n",
        "mod=np.mod(v,n)\n",
        "pow=np.power(v,n)\n",
        "print(sum)\n",
        "print(diff)\n",
        "print(prod)\n",
        "print(quo)\n",
        "print(mod)\n",
        "print(pow)"
      ],
      "execution_count": null,
      "outputs": [
        {
          "output_type": "stream",
          "text": [
            "[[1.65416941 1.02014329 1.6699653  1.22142155 1.22740579 0.7081954\n",
            "  0.83472589 0.11445453]\n",
            " [1.5658738  0.45953542 1.00736922 0.43364518 1.58195237 1.52058797\n",
            "  1.17836289 1.15598948]\n",
            " [0.6981489  1.53569092 1.12819745 0.79300266 1.25962591 1.27004003\n",
            "  1.18337963 0.67963199]\n",
            " [0.36842837 0.93239807 1.1556704  0.61087698 0.89012754 1.41564547\n",
            "  0.88202906 0.61470712]\n",
            " [0.55295275 1.22778565 1.4057458  1.1953915  0.74832951 1.22921342\n",
            "  0.69457828 0.69390851]\n",
            " [0.63013146 0.94943261 0.59178581 1.39835056 0.8816722  1.64723624\n",
            "  1.07574925 0.93414687]\n",
            " [0.98463468 0.82007826 0.6285085  0.90526662 0.71135329 0.77734536\n",
            "  0.88044376 0.55603836]\n",
            " [0.92158816 1.09971894 1.64178998 0.88349353 1.2055143  1.83031008\n",
            "  0.85040079 0.95431191]]\n",
            "[[-0.06278115 -0.68616578  0.23062716 -0.636601    0.13130495  0.05554758\n",
            "  -0.81219265 -0.0881527 ]\n",
            " [-0.1321636  -0.32286296 -0.37113862  0.11780962  0.38247973 -0.2519502\n",
            "   0.81672197  0.36508523]\n",
            " [ 0.46787643 -0.1127883   0.37634127 -0.74591856 -0.45646315  0.54834588\n",
            "   0.11826076 -0.66737942]\n",
            " [ 0.12187415 -0.85356308  0.65546395 -0.14030326  0.81326985  0.03486828\n",
            "   0.31740755 -0.59753277]\n",
            " [-0.25236965  0.66866205 -0.21688328 -0.11225629  0.56963191 -0.06289947\n",
            "  -0.26962768  0.18907848]\n",
            " [ 0.38517739  0.69111698  0.35061887  0.38460763 -0.8345822  -0.18961284\n",
            "   0.32255721 -0.78644651]\n",
            " [-0.63871767 -0.34993912  0.4133558   0.178929    0.07170208  0.18136236\n",
            "   0.81730298 -0.18555447]\n",
            " [ 0.5729645   0.73021061  0.27414992 -0.56133214 -0.30876397  0.0830381\n",
            "   0.78187114  0.36262611]]\n",
            "[[0.68308374 0.14246721 0.6838988  0.27165244 0.372321   0.1246138\n",
            "  0.0092776  0.00133224]\n",
            " [0.60862338 0.02673308 0.21926222 0.04354226 0.58907064 0.56217722\n",
            "  0.18037608 0.30075611]\n",
            " [0.06712588 0.58640635 0.28279918 0.01811468 0.3445747  0.32807962\n",
            "  0.34660044 0.00412609]\n",
            " [0.03022154 0.03519906 0.22648527 0.08837142 0.0327298  0.50070907\n",
            "  0.16930693 0.00520486]\n",
            " [0.06051658 0.26508717 0.48227072 0.35408984 0.05887914 0.37675232\n",
            "  0.10243497 0.11143959]\n",
            " [0.06217601 0.1059449  0.05681921 0.45186531 0.02020461 0.66935855\n",
            "  0.26329832 0.06353306]\n",
            " [0.1403863  0.13751774 0.05603998 0.19687302 0.12522058 0.14284338\n",
            "  0.02679926 0.06868705]\n",
            " [0.1302591  0.16904355 0.65507904 0.11636676 0.33948239 0.83578491\n",
            "  0.02796476 0.19480338]]\n",
            "[[9.26869003e-01 1.95730957e-01 1.32046279e+00 3.14754281e-01\n",
            "  1.23958552e+00 1.17022223e+00 1.36820583e-02 1.29816869e-01]\n",
            " [8.44333702e-01 1.74683971e-01 4.61535709e-01 1.74601870e+00\n",
            "  1.63774648e+00 7.15718168e-01 5.51675640e+00 1.92320969e+00]\n",
            " [5.06367659e+00 8.63160785e-01 2.00109909e+00 3.05955256e-02\n",
            "  4.68019272e-01 2.51960740e+00 1.22206114e+00 9.09611321e-03]\n",
            " [1.98861951e+00 4.41414944e-02 3.62077371e+00 6.26445818e-01\n",
            "  2.21630032e+01 1.05050530e+00 2.12431974e+00 1.41674467e-02]\n",
            " [3.73245668e-01 3.39182194e+00 7.32676698e-01 8.28308067e-01\n",
            "  7.37537264e+00 9.02640902e-01 4.40725959e-01 1.74907780e+00]\n",
            " [4.14489492e+00 6.35094976e+00 3.90768612e+00 1.75878731e+00\n",
            "  2.74376618e-02 7.93545547e-01 1.85650723e+00 8.58426864e-02]\n",
            " [2.13088063e-01 4.01822352e-01 4.84244115e+00 1.49268824e+00\n",
            "  1.22419117e+00 1.60861590e+00 2.68882767e+01 4.99578570e-01]\n",
            " [4.28700869e+00 4.95233642e+00 1.40090947e+00 2.22975959e-01\n",
            "  5.92196528e-01 1.09504886e+00 2.38184766e+01 2.22573873e+00]]\n",
            "[[7.95694130e-01 1.66988754e-01 2.30627159e-01 2.92410276e-01\n",
            "  1.31304947e-01 5.55475822e-02 1.12666177e-02 1.31509181e-02]\n",
            " [7.16855100e-01 6.83362278e-02 3.18115297e-01 1.17809617e-01\n",
            "  3.82479726e-01 6.34318886e-01 9.34401303e-02 3.65085232e-01]\n",
            " [7.33148321e-03 7.11451311e-01 4.13180397e-04 2.35420518e-02\n",
            "  4.01581377e-01 1.87498810e-01 1.18260756e-01 6.12628411e-03]\n",
            " [1.21874153e-01 3.94174970e-02 1.55257507e-01 2.35286858e-01\n",
            "  6.26402477e-03 3.48682821e-02 3.50967987e-02 8.58717206e-03]\n",
            " [1.50291548e-01 1.09538448e-01 5.94431259e-01 5.41567607e-01\n",
            "  3.35390953e-02 5.83156973e-01 2.12475298e-01 1.89078482e-01]\n",
            " [1.77462992e-02 4.53279046e-02 1.09451939e-01 3.84607633e-01\n",
            "  2.35450039e-02 7.28811704e-01 3.22557214e-01 7.38501792e-02]\n",
            " [1.72958504e-01 2.35069568e-01 9.06267442e-02 1.78929001e-01\n",
            "  7.17020783e-02 1.81362365e-01 2.80432427e-02 1.85241945e-01]\n",
            " [5.00290103e-02 1.75948119e-01 2.74149922e-01 1.61080694e-01\n",
            "  4.48375166e-01 8.30381046e-02 2.80449575e-02 6.67832022e-02]]\n",
            "[[0.82185088 0.21718613 0.96397509 0.31908114 0.80905994 0.73041486\n",
            "  0.02487318 0.64482735]\n",
            " [0.75380417 0.35003899 0.45410309 0.8159092  0.98929604 0.66802294\n",
            "  0.99955517 0.89740579]\n",
            " [0.93976885 0.75532212 0.89851489 0.05587253 0.45710932 0.96623143\n",
            "  0.79553063 0.03233439]\n",
            " [0.84087454 0.0557157  0.97549651 0.58073539 0.99385029 0.80109712\n",
            "  0.86558981 0.05593265]\n",
            " [0.46621204 0.98524709 0.65573049 0.66966216 0.96342185 0.70580413\n",
            "  0.4739073  0.81352999]\n",
            " [0.92032001 0.97473639 0.91325954 0.94343671 0.04007579 0.74786387\n",
            "  0.87390973 0.10627879]\n",
            " [0.24068865 0.42869107 0.93224991 0.8006179  0.74089218 0.80322695\n",
            "  0.9948407  0.53515596]\n",
            " [0.95048722 0.98371501 0.97106443 0.26739793 0.54480889 0.96204359\n",
            "  0.99306244 0.88372058]]\n"
          ],
          "name": "stdout"
        }
      ]
    },
    {
      "cell_type": "markdown",
      "metadata": {
        "id": "9MGWh-RzXCxL",
        "colab_type": "text"
      },
      "source": [
        " ## iv) Slicing and iterating of numpy arrays"
      ]
    },
    {
      "cell_type": "markdown",
      "metadata": {
        "id": "290jQkN2XeAX",
        "colab_type": "text"
      },
      "source": [
        " ### a) Slicing"
      ]
    },
    {
      "cell_type": "code",
      "metadata": {
        "id": "eDhCzDZ8XopR",
        "colab_type": "code",
        "colab": {
          "base_uri": "https://localhost:8080/",
          "height": 34
        },
        "outputId": "434223df-cf3a-47b7-a246-ebc455f8a1ab"
      },
      "source": [
        "import numpy as np\n",
        "arr = np.array([4,5,6,8,9,7])\n",
        "print(arr[2:6])"
      ],
      "execution_count": null,
      "outputs": [
        {
          "output_type": "stream",
          "text": [
            "[6 8 9 7]\n"
          ],
          "name": "stdout"
        }
      ]
    },
    {
      "cell_type": "markdown",
      "metadata": {
        "id": "b9jZPWbHnBDb",
        "colab_type": "text"
      },
      "source": [
        "### b) Iterating"
      ]
    },
    {
      "cell_type": "code",
      "metadata": {
        "id": "jLgrfZdTnK58",
        "colab_type": "code",
        "colab": {
          "base_uri": "https://localhost:8080/",
          "height": 119
        },
        "outputId": "9d0b26f8-6e70-4859-f548-5c59fe1495e2"
      },
      "source": [
        "for i in arr:\n",
        "  print(i)"
      ],
      "execution_count": null,
      "outputs": [
        {
          "output_type": "stream",
          "text": [
            "4\n",
            "5\n",
            "6\n",
            "8\n",
            "9\n",
            "7\n"
          ],
          "name": "stdout"
        }
      ]
    },
    {
      "cell_type": "markdown",
      "metadata": {
        "id": "UgP9YHNincYO",
        "colab_type": "text"
      },
      "source": [
        " ## V) Matrix operation on numpy arrays"
      ]
    },
    {
      "cell_type": "code",
      "metadata": {
        "id": "MG21Ur1onpmZ",
        "colab_type": "code",
        "colab": {
          "base_uri": "https://localhost:8080/",
          "height": 119
        },
        "outputId": "e692aaa7-bd44-49b3-8a4f-cf551989ed1e"
      },
      "source": [
        " \n",
        "import numpy as np\n",
        "v=np.array([[5,9],[4,3]])\n",
        "i=np.array([[2,16],[1,12]])\n",
        "print(np.add(v,i))\n",
        "print(np.subtract(v,i))\n",
        "print(np.divide(v,i))"
      ],
      "execution_count": null,
      "outputs": [
        {
          "output_type": "stream",
          "text": [
            "[[ 7 25]\n",
            " [ 5 15]]\n",
            "[[ 3 -7]\n",
            " [ 3 -9]]\n",
            "[[2.5    0.5625]\n",
            " [4.     0.25  ]]\n"
          ],
          "name": "stdout"
        }
      ]
    }
  ]
}